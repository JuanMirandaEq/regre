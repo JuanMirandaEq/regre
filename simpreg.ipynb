{
 "cells": [
  {
   "cell_type": "code",
   "execution_count": 1,
   "id": "1b856983",
   "metadata": {},
   "outputs": [],
   "source": [
    "import pandas as pd\n",
    "import watermark\n",
    "from statsmodels.formula.api import ols"
   ]
  },
  {
   "cell_type": "code",
   "execution_count": null,
   "id": "0539c081",
   "metadata": {},
   "outputs": [],
   "source": [
    "estate = pd.read_excel('C:/Users/Juan Miranda/Documents/negocios/Cursos/Python for Economics/Real estate valuation data set.xlsx')\n",
    "estate.columns=['N','date','house_age','distance_station','number_stores','lat','lon','house_price']\n",
    "estate.drop('N',axis=1,inplace=True)\n",
    "estate.describe().transpose()\n",
    "description=estate.describe().transpose()"
   ]
  },
  {
   "cell_type": "code",
   "execution_count": 2,
   "id": "3f219804",
   "metadata": {},
   "outputs": [
    {
     "data": {
      "text/plain": [
       "'1.5.1'"
      ]
     },
     "execution_count": 2,
     "metadata": {},
     "output_type": "execute_result"
    }
   ],
   "source": [
    "pd.__version__"
   ]
  },
  {
   "cell_type": "code",
   "execution_count": null,
   "id": "6f59a0dc",
   "metadata": {},
   "outputs": [],
   "source": []
  }
 ],
 "metadata": {
  "kernelspec": {
   "display_name": "Python 3 (ipykernel)",
   "language": "python",
   "name": "python3"
  },
  "language_info": {
   "codemirror_mode": {
    "name": "ipython",
    "version": 3
   },
   "file_extension": ".py",
   "mimetype": "text/x-python",
   "name": "python",
   "nbconvert_exporter": "python",
   "pygments_lexer": "ipython3",
   "version": "3.9.12"
  }
 },
 "nbformat": 4,
 "nbformat_minor": 5
}
