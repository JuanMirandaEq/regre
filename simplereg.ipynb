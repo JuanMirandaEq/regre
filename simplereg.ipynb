{
 "cells": [
  {
   "cell_type": "code",
   "execution_count": 12,
   "id": "26b86cc1",
   "metadata": {},
   "outputs": [],
   "source": [
    "import pandas as pd\n",
    "import watermark\n",
    "import statsmodels\n",
    "import seaborn\n",
    "\n",
    "from statsmodels.formula.api import ols"
   ]
  },
  {
   "cell_type": "code",
   "execution_count": 15,
   "id": "952a04f9",
   "metadata": {},
   "outputs": [
    {
     "name": "stdout",
     "output_type": "stream",
     "text": [
      "Python implementation: CPython\n",
      "Python version       : 3.9.12\n",
      "IPython version      : 8.2.0\n",
      "\n",
      "pandas     : 1.3.2\n",
      "numpy      : 1.21.5\n",
      "statsmodels: 0.13.2\n",
      "seaborn    : 0.11.2\n",
      "\n",
      "Compiler    : MSC v.1916 64 bit (AMD64)\n",
      "OS          : Windows\n",
      "Release     : 10\n",
      "Machine     : AMD64\n",
      "Processor   : Intel64 Family 6 Model 142 Stepping 10, GenuineIntel\n",
      "CPU cores   : 8\n",
      "Architecture: 64bit\n",
      "\n",
      " \n",
      "Last updated: Wed Oct 19 2022 22:04:14SA Pacific Standard Time\n",
      "\n"
     ]
    }
   ],
   "source": [
    "%reload_ext watermark\n",
    "\n",
    "# python, ipython, packages, and machine characteristics\n",
    "%watermark -v -m -p pandas,numpy,statsmodels,seaborn\n",
    "\n",
    "# date\n",
    "print (\" \")\n",
    "%watermark -u -n -t -z "
   ]
  },
  {
   "cell_type": "code",
   "execution_count": 5,
   "id": "8ba84552",
   "metadata": {},
   "outputs": [
    {
     "name": "stdout",
     "output_type": "stream",
     "text": [
      "Requirement already satisfied: pandas==1.3.2 in c:\\users\\juan miranda\\anaconda3\\lib\\site-packages (1.3.2)\n",
      "Requirement already satisfied: pytz>=2017.3 in c:\\users\\juan miranda\\anaconda3\\lib\\site-packages (from pandas==1.3.2) (2021.3)\n",
      "Requirement already satisfied: numpy>=1.17.3 in c:\\users\\juan miranda\\anaconda3\\lib\\site-packages (from pandas==1.3.2) (1.21.5)\n",
      "Requirement already satisfied: python-dateutil>=2.7.3 in c:\\users\\juan miranda\\anaconda3\\lib\\site-packages (from pandas==1.3.2) (2.8.2)\n",
      "Requirement already satisfied: six>=1.5 in c:\\users\\juan miranda\\anaconda3\\lib\\site-packages (from python-dateutil>=2.7.3->pandas==1.3.2) (1.16.0)\n"
     ]
    }
   ],
   "source": [
    "!pip3 install pandas==1.3.2"
   ]
  },
  {
   "cell_type": "code",
   "execution_count": null,
   "id": "a73b1adf",
   "metadata": {},
   "outputs": [],
   "source": []
  }
 ],
 "metadata": {
  "kernelspec": {
   "display_name": "Python 3 (ipykernel)",
   "language": "python",
   "name": "python3"
  },
  "language_info": {
   "codemirror_mode": {
    "name": "ipython",
    "version": 3
   },
   "file_extension": ".py",
   "mimetype": "text/x-python",
   "name": "python",
   "nbconvert_exporter": "python",
   "pygments_lexer": "ipython3",
   "version": "3.9.12"
  }
 },
 "nbformat": 4,
 "nbformat_minor": 5
}
